{
 "cells": [
  {
   "cell_type": "code",
   "execution_count": 85,
   "metadata": {},
   "outputs": [],
   "source": [
    "import copy\n",
    "\n",
    "import tqdm\n",
    "import torch\n",
    "import numpy as np\n",
    "import pandas as pd\n",
    "import matplotlib.pyplot as plt\n",
    "\n",
    "from sklearn.preprocessing import LabelEncoder\n",
    "from sklearn.model_selection import StratifiedKFold, train_test_split\n",
    "from sklearn.metrics import roc_curve, classification_report, confusion_matrix"
   ]
  },
  {
   "cell_type": "code",
   "execution_count": 86,
   "metadata": {},
   "outputs": [],
   "source": [
    "data = pd.read_csv('../../Data/processed/df_scaled.csv')\n",
    "X = data.iloc[:, 0:27]\n",
    "y = data.iloc[:, 27]\n",
    "\n",
    "encoder = LabelEncoder()\n",
    "encoder.fit(y)\n",
    "y = encoder.transform(y)"
   ]
  },
  {
   "cell_type": "code",
   "execution_count": 87,
   "metadata": {},
   "outputs": [],
   "source": [
    "X = torch.tensor(X.values, dtype=torch.float32)\n",
    "y = torch.tensor(y, dtype=torch.float32).reshape(-1, 1)"
   ]
  },
  {
   "cell_type": "code",
   "execution_count": 88,
   "metadata": {},
   "outputs": [],
   "source": [
    "class Deep(torch.nn.Module):\n",
    "    def __init__(self):\n",
    "        super().__init__()\n",
    "        self.layer1 = torch.nn.Linear(27, 64)\n",
    "        self.act1 = torch.nn.Tanh()\n",
    "        self.layer2 = torch.nn.Linear(64, 128)\n",
    "        self.act2 = torch.nn.Tanh()\n",
    "        self.layer3 = torch.nn.Linear(128, 64)\n",
    "        self.act3 = torch.nn.Tanh()\n",
    "        self.output = torch.nn.Linear(64, 1)\n",
    "        self.sigmoid = torch.nn.Sigmoid()\n",
    "\n",
    "    def forward(self, x):\n",
    "        x = self.act1(self.layer1(x))\n",
    "        x = self.act2(self.layer2(x))\n",
    "        x = self.act3(self.layer3(x))\n",
    "        x = self.sigmoid(self.output(x))\n",
    "        return x"
   ]
  },
  {
   "cell_type": "code",
   "execution_count": 89,
   "metadata": {},
   "outputs": [
    {
     "name": "stdout",
     "output_type": "stream",
     "text": [
      "18433\n"
     ]
    }
   ],
   "source": [
    "model = Deep()\n",
    "print(sum([x.reshape(-1).shape[0] for x in model.parameters()]))"
   ]
  },
  {
   "cell_type": "code",
   "execution_count": 90,
   "metadata": {},
   "outputs": [],
   "source": [
    "def model_train(model, X_train, y_train, X_val, y_val):\n",
    "\n",
    "    loss_fn = torch.nn.BCELoss()\n",
    "    optimizer = torch.optim.Adam(model.parameters())\n",
    "\n",
    "    n_epochs = 20\n",
    "    batch_size = 32\n",
    "    batch_start = torch.arange(0, len(X_train), batch_size)\n",
    "\n",
    "    best_acc = - np.inf\n",
    "    best_weights = None\n",
    "\n",
    "    for epoch in range(n_epochs):\n",
    "        model.train()\n",
    "        with tqdm.tqdm(batch_start, unit=\"batch\", mininterval=0, disable=True) as bar:\n",
    "            bar.set_description(f\"Epoch {epoch}\")\n",
    "            for start in bar:\n",
    "                X_batch = X_train[start:start+batch_size]\n",
    "                y_batch = y_train[start:start+batch_size]\n",
    "\n",
    "                y_pred = model(X_batch)\n",
    "                loss = loss_fn(y_pred, y_batch)\n",
    "\n",
    "                optimizer.zero_grad()\n",
    "                loss.backward()\n",
    "\n",
    "                optimizer.step()\n",
    "\n",
    "                acc = (y_pred.round() == y_batch).float().mean()\n",
    "                bar.set_postfix(\n",
    "                    loss=float(loss),\n",
    "                    acc=float(acc)\n",
    "                )\n",
    "\n",
    "        model.eval()\n",
    "        y_pred = model(X_val)\n",
    "        acc = (y_pred.round() == y_val).float().mean()\n",
    "        acc = float(acc)\n",
    "        if acc > best_acc:\n",
    "            best_acc = acc\n",
    "            best_weights = copy.deepcopy(model.state_dict())\n",
    "\n",
    "    model.load_state_dict(best_weights)\n",
    "    return best_acc"
   ]
  },
  {
   "cell_type": "code",
   "execution_count": 91,
   "metadata": {},
   "outputs": [],
   "source": [
    "X_train, X_test, y_train, y_test = train_test_split(X, y, test_size=0.325, shuffle=True)"
   ]
  },
  {
   "cell_type": "code",
   "execution_count": 92,
   "metadata": {},
   "outputs": [
    {
     "name": "stdout",
     "output_type": "stream",
     "text": [
      "Accuracy (deep): 0.82\n",
      "Accuracy (deep): 0.80\n",
      "Accuracy (deep): 0.98\n",
      "Accuracy (deep): 0.82\n",
      "Accuracy (deep): 0.90\n"
     ]
    }
   ],
   "source": [
    "kfold = StratifiedKFold(n_splits=5, shuffle=True)\n",
    "cv_scores = []\n",
    "for train, test in kfold.split(X_train, y_train):\n",
    "    model = Deep()\n",
    "    acc = model_train(model, X_train[train], y_train[train], X_train[test], y_train[test])\n",
    "    print(\"Accuracy (deep): %.2f\" % acc)\n",
    "    cv_scores.append(acc)"
   ]
  },
  {
   "cell_type": "code",
   "execution_count": 93,
   "metadata": {},
   "outputs": [
    {
     "name": "stdout",
     "output_type": "stream",
     "text": [
      "Deep: 86.50% (+/- 6.44%)\n"
     ]
    }
   ],
   "source": [
    "deep_acc = np.mean(cv_scores)\n",
    "deep_std = np.std(cv_scores)\n",
    "print(\"Deep: %.2f%% (+/- %.2f%%)\" % (deep_acc*100, deep_std*100))"
   ]
  },
  {
   "cell_type": "code",
   "execution_count": 94,
   "metadata": {},
   "outputs": [
    {
     "name": "stdout",
     "output_type": "stream",
     "text": [
      "[ 1.0468676  -0.3774685   1.1876298  -0.4114503  -0.81209457  1.4359163\n",
      "  0.6394703  -0.72197604 -0.69109476  0.69109476 -0.9571463  -0.44450045\n",
      "  1.6057127  -0.28972676  0.05812382  0.43905705 -0.9833043   1.0101526\n",
      " -0.11684125 -1.5923927  -0.9379482   1.0806865  -0.27583864  0.8407714\n",
      " -0.25400025 -1.1104425   1.2580178 ] -> [0.5233821] (expected [1.])\n",
      "[-1.1668717  -0.09550637 -0.2764434  -0.4114503   1.2837092   1.4359163\n",
      " -0.56311566 -0.72197604 -0.69109476  0.69109476 -0.9571463  -0.44450045\n",
      "  1.6057127  -0.28972676  0.05812382  0.43905705 -0.9833043   1.0101526\n",
      " -0.11684125  0.62798584  1.066157   -0.9253378  -0.27583864  0.8407714\n",
      " -0.25400025  0.90054184 -0.7949013 ] -> [0.41019517] (expected [0.])\n",
      "[ 1.3789285  -0.9413928   6.099981   -0.4114503   0.45412022 -0.6964194\n",
      "  0.46767232 -0.72197604  1.4469796  -1.4469796  -0.9571463  -0.44450045\n",
      "  1.6057127  -0.28972676  0.05812382  0.43905705  1.0169791  -0.98994946\n",
      " -0.11684125  0.62798584 -0.9379482   1.0806865  -0.27583864  0.8407714\n",
      " -0.25400025 -1.1104425   1.2580178 ] -> [0.46135837] (expected [0.])\n",
      "[ 1.2682415   1.5962665  -0.372764   -0.4114503  -0.5064565  -0.6964194\n",
      "  1.0689653  -0.72197604 -0.69109476  0.69109476  1.0447724  -0.44450045\n",
      " -0.6227764  -0.28972676  0.05812382  0.43905705  1.0169791  -0.98994946\n",
      " -0.11684125 -1.5923927   1.066157   -0.9253378  -0.27583864  0.8407714\n",
      "  3.9370039  -1.1104425  -0.7949013 ] -> [0.52345365] (expected [0.])\n",
      "[ 2.4857981  -0.3774685   1.0913093  -0.4114503   0.5414454   1.4359163\n",
      " -0.90671164  2.4784253  -0.69109476  0.69109476  1.0447724  -0.44450045\n",
      " -0.6227764  -0.28972676  0.05812382  0.43905705  1.0169791  -0.98994946\n",
      " -0.11684125  0.62798584  1.066157   -0.9253378  -0.27583864 -1.189384\n",
      " -0.25400025  0.90054184 -0.7949013 ] -> [0.5597228] (expected [1.])\n"
     ]
    },
    {
     "data": {
      "image/png": "[encoded data removed]",
      "text/plain": [
       "<Figure size 640x480 with 1 Axes>"
      ]
     },
     "metadata": {},
     "output_type": "display_data"
    }
   ],
   "source": [
    "model.eval()\n",
    "with torch.no_grad():\n",
    "    for i in range(5):\n",
    "        y_pred = model(X_test[i:i+1])\n",
    "        print(f\"{X_test[i].numpy()} -> {y_pred[0].numpy()} (expected {y_test[i].numpy()})\")\n",
    "\n",
    "    y_pred = model(X_test)\n",
    "    fpr, tpr, thresholds = roc_curve(y_test, y_pred)\n",
    "    plt.plot(fpr, tpr)\n",
    "    plt.title(\"ROC Curve\")\n",
    "    plt.xlabel(\"False Positive Rate\")\n",
    "    plt.ylabel(\"True Positive Rate\")\n",
    "    plt.show()"
   ]
  },
  {
   "cell_type": "code",
   "execution_count": 95,
   "metadata": {},
   "outputs": [
    {
     "data": {
      "text/plain": [
       "tensor([[0.5234],\n",
       "        [0.4102],\n",
       "        [0.4614],\n",
       "        [0.5235],\n",
       "        [0.5597]])"
      ]
     },
     "execution_count": 95,
     "metadata": {},
     "output_type": "execute_result"
    }
   ],
   "source": [
    "y_pred[0:5]"
   ]
  },
  {
   "cell_type": "code",
   "execution_count": 96,
   "metadata": {},
   "outputs": [],
   "source": [
    "# Convert values in y_pred: 0.5 or greater to 1, less than 0.5 to 0\n",
    "y_pred = [[1 if value >= 0.5 else 0 for value in sublist] for sublist in y_pred]"
   ]
  },
  {
   "cell_type": "code",
   "execution_count": 97,
   "metadata": {},
   "outputs": [
    {
     "data": {
      "text/plain": [
       "97"
      ]
     },
     "execution_count": 97,
     "metadata": {},
     "output_type": "execute_result"
    }
   ],
   "source": [
    "len(y_test)"
   ]
  },
  {
   "cell_type": "code",
   "execution_count": 98,
   "metadata": {},
   "outputs": [
    {
     "data": {
      "text/plain": [
       "array([[49,  8],\n",
       "       [ 6, 34]])"
      ]
     },
     "execution_count": 98,
     "metadata": {},
     "output_type": "execute_result"
    }
   ],
   "source": [
    "confusion_matrix(y_test, y_pred)"
   ]
  },
  {
   "cell_type": "code",
   "execution_count": null,
   "metadata": {},
   "outputs": [
    {
     "data": {
      "text/plain": [
       "<sklearn.metrics._plot.confusion_matrix.ConfusionMatrixDisplay at 0x7fc571082790>"
      ]
     },
     "execution_count": 99,
     "metadata": {},
     "output_type": "execute_result"
    },
    {
     "data": {
      "image/png": "[encoded data removed]",
      "text/plain": [
       "<Figure size 640x480 with 2 Axes>"
      ]
     },
     "metadata": {},
     "output_type": "display_data"
    }
   ],
   "source": [
    "from sklearn.metrics import ConfusionMatrixDisplay\n",
    "ConfusionMatrixDisplay(confusion_matrix(y_test, y_pred)).plot(cmap = 'magma')"
   ]
  },
  {
   "cell_type": "code",
   "execution_count": 100,
   "metadata": {},
   "outputs": [
    {
     "name": "stdout",
     "output_type": "stream",
     "text": [
      "              precision    recall  f1-score   support\n",
      "\n",
      "         0.0       0.89      0.86      0.88        57\n",
      "         1.0       0.81      0.85      0.83        40\n",
      "\n",
      "    accuracy                           0.86        97\n",
      "   macro avg       0.85      0.85      0.85        97\n",
      "weighted avg       0.86      0.86      0.86        97\n",
      "\n"
     ]
    }
   ],
   "source": [
    "print(classification_report(y_test, y_pred))"
   ]
  },
  {
   "cell_type": "code",
   "execution_count": null,
   "metadata": {},
   "outputs": [],
   "source": []
  }
 ],
 "metadata": {
  "kernelspec": {
   "display_name": ".venv",
   "language": "python",
   "name": "python3"
  },
  "language_info": {
   "codemirror_mode": {
    "name": "ipython",
    "version": 3
   },
   "file_extension": ".py",
   "mimetype": "text/x-python",
   "name": "python",
   "nbconvert_exporter": "python",
   "pygments_lexer": "ipython3",
   "version": "3.9.12"
  }
 },
 "nbformat": 4,
 "nbformat_minor": 2
}
